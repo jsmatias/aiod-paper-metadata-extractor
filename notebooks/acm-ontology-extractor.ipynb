{
 "cells": [
  {
   "cell_type": "code",
   "execution_count": 61,
   "metadata": {},
   "outputs": [],
   "source": [
    "import requests\n",
    "from bs4 import BeautifulSoup\n",
    "import sys\n",
    "sys.path.append(\"../src\")\n",
    "from paper_reader.metadata import Metadata"
   ]
  },
  {
   "cell_type": "code",
   "execution_count": 7,
   "metadata": {},
   "outputs": [],
   "source": [
    "url = 'https://dl.acm.org/doi/10.1109/UCC.2014.166'\n",
    "res = requests.get(url)"
   ]
  },
  {
   "cell_type": "code",
   "execution_count": 9,
   "metadata": {},
   "outputs": [],
   "source": [
    "soup = BeautifulSoup(res.text, 'html.parser')"
   ]
  },
  {
   "cell_type": "code",
   "execution_count": 11,
   "metadata": {},
   "outputs": [],
   "source": [
    "kw_tree_elements = soup.find_all(\"ol\", class_=\"rlist organizational-chart\")"
   ]
  },
  {
   "cell_type": "code",
   "execution_count": 13,
   "metadata": {},
   "outputs": [
    {
     "data": {
      "text/plain": [
       "1"
      ]
     },
     "execution_count": 13,
     "metadata": {},
     "output_type": "execute_result"
    }
   ],
   "source": [
    "len(kw_tree_elements)"
   ]
  },
  {
   "cell_type": "code",
   "execution_count": 47,
   "metadata": {},
   "outputs": [],
   "source": [
    "root = kw_tree_elements[0].find('h6')"
   ]
  },
  {
   "cell_type": "code",
   "execution_count": 48,
   "metadata": {},
   "outputs": [
    {
     "data": {
      "text/plain": [
       "'Energy-Aware Virtual Machine Consolidation for Cloud Data Centers'"
      ]
     },
     "execution_count": 48,
     "metadata": {},
     "output_type": "execute_result"
    }
   ],
   "source": [
    "root.text"
   ]
  },
  {
   "cell_type": "code",
   "execution_count": 51,
   "metadata": {},
   "outputs": [],
   "source": [
    "keywords = kw_tree_elements[0].find_all('p')"
   ]
  },
  {
   "cell_type": "code",
   "execution_count": 53,
   "metadata": {},
   "outputs": [
    {
     "name": "stdout",
     "output_type": "stream",
     "text": [
      "Computer systems organization\n",
      "Architectures\n",
      "Distributed architectures\n",
      "Dependable and fault-tolerant systems and networks\n",
      "General and reference\n",
      "Cross-computing tools and techniques\n",
      "Performance\n",
      "Networks\n",
      "Network performance evaluation\n",
      "Software and its engineering\n",
      "Software notations and tools\n",
      "Compilers\n",
      "Software organization and properties\n",
      "Software system structures\n",
      "Distributed systems organizing principles\n"
     ]
    }
   ],
   "source": [
    "for kw in keywords:\n",
    "    print(kw.text)"
   ]
  },
  {
   "cell_type": "code",
   "execution_count": 56,
   "metadata": {},
   "outputs": [],
   "source": [
    "def get_ontology(doi: str) -> list:\n",
    "    ontology = []\n",
    "    url = f\"https://dl.acm.org/doi/{doi}\"\n",
    "    res = requests.get(url)\n",
    "    soup = BeautifulSoup(res.text, \"html.parser\")\n",
    "    kw_tree_elements = soup.find_all(\"ol\", class_=\"rlist organizational-chart\")\n",
    "    root = kw_tree_elements[0].find(\"h6\")\n",
    "    ontology.append(root.text)\n",
    "\n",
    "    keywords = kw_tree_elements[0].find_all(\"p\")\n",
    "    for kw in keywords:\n",
    "        ontology.append(kw.text)\n",
    "\n",
    "    return ontology"
   ]
  },
  {
   "cell_type": "code",
   "execution_count": 64,
   "metadata": {},
   "outputs": [
    {
     "data": {
      "text/plain": [
       "['BotSeer: An Automated Information System for Analyzing Web Robots',\n",
       " 'Computer systems organization',\n",
       " 'Embedded and cyber-physical systems',\n",
       " 'Robotics',\n",
       " 'Computing methodologies',\n",
       " 'Artificial intelligence',\n",
       " 'Control methods',\n",
       " 'Robotic planning',\n",
       " 'Planning and scheduling',\n",
       " 'Robotic planning',\n",
       " 'Information systems',\n",
       " 'Information retrieval']"
      ]
     },
     "execution_count": 64,
     "metadata": {},
     "output_type": "execute_result"
    }
   ],
   "source": [
    "# doi = '10.1109/UCC.2014.166'\n",
    "# doi = '10.1145/3093742.3093919'\n",
    "# doi = \"10.1145/1866307.1866422\"\n",
    "doi = \"10.1109/ICWE.2008.27\"\n",
    "get_ontology(doi)"
   ]
  },
  {
   "cell_type": "code",
   "execution_count": 62,
   "metadata": {},
   "outputs": [],
   "source": [
    "metadata = Metadata()"
   ]
  },
  {
   "cell_type": "code",
   "execution_count": 63,
   "metadata": {},
   "outputs": [
    {
     "name": "stdout",
     "output_type": "stream",
     "text": [
      "'NoneType' object has no attribute 'group' of type <class 'AttributeError'> - Error found trying to search volume in the metadata:  @article{2010, title={A cloud based SIM DRM schem...\n",
      "'NoneType' object has no attribute 'group' of type <class 'AttributeError'> - Error found trying to search ISSN in the metadata:  @article{2010, title={A cloud based SIM DRM schem...\n",
      "'NoneType' object has no attribute 'group' of type <class 'AttributeError'> - Error found trying to search number in the metadata:  @article{2010, title={A cloud based SIM DRM schem...\n",
      "'NoneType' object has no attribute 'group' of type <class 'AttributeError'> - Error found trying to search pages in the metadata:  @article{2010, title={A cloud based SIM DRM schem...\n",
      "'NoneType' object has no attribute 'group' of type <class 'AttributeError'> - Error found trying to search keywords in the metadata:  @article{2010, title={A cloud based SIM DRM schem...\n"
     ]
    },
    {
     "data": {
      "text/plain": [
       "{'title': 'A cloud based SIM DRM scheme for the mobile internet',\n",
       " 'volume': '',\n",
       " 'issn': '',\n",
       " 'url': 'http://dx.doi.org/10.1145/1866307.1866422',\n",
       " 'doi': '10.1145/1866307.1866422',\n",
       " 'number': '',\n",
       " 'journal': 'Proceedings of the 17th ACM conference on Computer and communications security',\n",
       " 'publisher': 'ACM',\n",
       " 'author': ['Zou, Peng',\n",
       "  'Wang, Chaokun',\n",
       "  'Liu, Zhang',\n",
       "  'Wang, Jianmin',\n",
       "  'Sun, Jia-Guang'],\n",
       " 'year': '2010',\n",
       " 'month': 'Oct',\n",
       " 'pages': '',\n",
       " 'keywords': ''}"
      ]
     },
     "execution_count": 63,
     "metadata": {},
     "output_type": "execute_result"
    }
   ],
   "source": [
    "metadata.get_metadata_from_doi(doi)"
   ]
  },
  {
   "cell_type": "code",
   "execution_count": null,
   "metadata": {},
   "outputs": [],
   "source": []
  },
  {
   "cell_type": "code",
   "execution_count": 44,
   "metadata": {},
   "outputs": [],
   "source": [
    "def get_li_from_ol(ol):\n",
    "    li_list = ol.select(\"ol > li:not(li li)\")\n",
    "    return(li_list)"
   ]
  },
  {
   "cell_type": "code",
   "execution_count": 45,
   "metadata": {},
   "outputs": [
    {
     "name": "stdout",
     "output_type": "stream",
     "text": [
      "Energy-Aware Virtual Machine Consolidation for Cloud Data Centers\n",
      "h6\n",
      "ol\n"
     ]
    }
   ],
   "source": [
    "data = dict()\n",
    "for el in kw_tree_elements:\n",
    "    for cont in el.find_all('h6'):\n",
    "        print(cont.text)\n",
    "    first_li_list = get_li_from_ol(el)\n",
    "    for li in first_li_list:\n",
    "        for ele in li.contents:\n",
    "            print(ele.name)\n",
    "            if ele.name == 'h6':\n",
    "                \n",
    "    "
   ]
  },
  {
   "cell_type": "code",
   "execution_count": 40,
   "metadata": {},
   "outputs": [
    {
     "data": {
      "text/plain": [
       "1"
      ]
     },
     "execution_count": 40,
     "metadata": {},
     "output_type": "execute_result"
    }
   ],
   "source": [
    "len(first_li_list)"
   ]
  },
  {
   "cell_type": "code",
   "execution_count": 42,
   "metadata": {},
   "outputs": [
    {
     "name": "stdout",
     "output_type": "stream",
     "text": [
      "li\n"
     ]
    }
   ],
   "source": [
    "for li in first_li_list:\n",
    "    print(li.name)"
   ]
  },
  {
   "cell_type": "code",
   "execution_count": null,
   "metadata": {},
   "outputs": [],
   "source": []
  }
 ],
 "metadata": {
  "kernelspec": {
   "display_name": "AIoD Paper Metadata Extractor",
   "language": "python",
   "name": "aiod-pmeta-extr-venv"
  },
  "language_info": {
   "codemirror_mode": {
    "name": "ipython",
    "version": 3
   },
   "file_extension": ".py",
   "mimetype": "text/x-python",
   "name": "python",
   "nbconvert_exporter": "python",
   "pygments_lexer": "ipython3",
   "version": "3.11.4"
  }
 },
 "nbformat": 4,
 "nbformat_minor": 4
}
